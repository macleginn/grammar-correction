{
 "cells": [
  {
   "cell_type": "code",
   "execution_count": 1,
   "metadata": {},
   "outputs": [],
   "source": [
    "import sqlite3\n",
    "from queue import Queue"
   ]
  },
  {
   "cell_type": "code",
   "execution_count": 2,
   "metadata": {},
   "outputs": [],
   "source": [
    "def conll2tree(record):\n",
    "    'Returns a UD tree together with the index of the root node.'\n",
    "    tree = {}\n",
    "    root = None\n",
    "    for line in record.splitlines():\n",
    "        if line.startswith('#'):\n",
    "            continue\n",
    "        fields = line.strip().split('\\t')\n",
    "        pos = fields[3]\n",
    "        if pos == 'PUNCT':\n",
    "            continue\n",
    "        key = fields[0]\n",
    "        # wordform = fields[1] \n",
    "        parent = fields[6]\n",
    "        relation = fields[7]\n",
    "        if relation == 'root':\n",
    "            root = key\n",
    "        # Children are always added in their linear order\n",
    "        tree[parent] = tree.get(parent, []) + [(key, relation)]\n",
    "    return (tree, root)"
   ]
  },
  {
   "cell_type": "code",
   "execution_count": 3,
   "metadata": {},
   "outputs": [],
   "source": [
    "def linearise_tree(conll_tree, root_index):\n",
    "    q = Queue()\n",
    "    q.put((root_index, 'root', 0))\n",
    "    q.put((-1, '|', None))\n",
    "    current_depth = 0\n",
    "    # Single pipes separate children of a particular node.\n",
    "    # Double pipes separate tree levels.\n",
    "    result = []\n",
    "    while not q.empty():\n",
    "        current_node, relation, new_depth = q.get()\n",
    "        if relation == '|':\n",
    "            result.append(relation)\n",
    "            continue\n",
    "        if new_depth != current_depth:\n",
    "            result.append('||')\n",
    "            current_depth = new_depth\n",
    "        result.append(relation)\n",
    "        # Check if we reached a leaf\n",
    "        if current_node in conll_tree:\n",
    "            for key, relation in conll_tree[current_node]:\n",
    "                q.put((key, relation, current_depth+1))\n",
    "            q.put((-1, '|', None))\n",
    "    return result"
   ]
  },
  {
   "cell_type": "code",
   "execution_count": 4,
   "metadata": {},
   "outputs": [],
   "source": [
    "conn = sqlite3.connect('../gec.sqlite')\n",
    "cursor = conn.cursor()"
   ]
  },
  {
   "cell_type": "code",
   "execution_count": 5,
   "metadata": {},
   "outputs": [],
   "source": [
    "blocks_unc = [el[0] for el in cursor.execute('select `en` from `en-en`;')]\n",
    "blocks_cor = [el[0] for el in cursor.execute('select `ru` from `en-en`;')]\n",
    "assert len(blocks_cor) == len(blocks_unc)"
   ]
  },
  {
   "cell_type": "code",
   "execution_count": 6,
   "metadata": {},
   "outputs": [],
   "source": [
    "same = different = 0\n",
    "for i, b_unc in enumerate(blocks_unc):\n",
    "    b_cor = blocks_cor[i]\n",
    "    tree_unc, root_unc = conll2tree(b_unc)\n",
    "    tree_cor, root_cor = conll2tree(b_cor)\n",
    "    if linearise_tree(tree_unc, root_unc) == linearise_tree(tree_cor, root_cor):\n",
    "        same += 1\n",
    "    else:\n",
    "        different += 1"
   ]
  },
  {
   "cell_type": "code",
   "execution_count": 7,
   "metadata": {},
   "outputs": [
    {
     "name": "stdout",
     "output_type": "stream",
     "text": [
      "1135 2988 27.5\n"
     ]
    }
   ],
   "source": [
    "print(\n",
    "    same, \n",
    "    different, \n",
    "    round(same / (same+different)*100,1)\n",
    ")"
   ]
  }
 ],
 "metadata": {
  "kernelspec": {
   "display_name": "Python 3",
   "language": "python",
   "name": "python3"
  },
  "language_info": {
   "codemirror_mode": {
    "name": "ipython",
    "version": 3
   },
   "file_extension": ".py",
   "mimetype": "text/x-python",
   "name": "python",
   "nbconvert_exporter": "python",
   "pygments_lexer": "ipython3",
   "version": "3.7.3"
  }
 },
 "nbformat": 4,
 "nbformat_minor": 2
}
